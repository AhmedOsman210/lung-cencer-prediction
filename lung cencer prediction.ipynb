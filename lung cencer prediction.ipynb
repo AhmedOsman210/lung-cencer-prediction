{
 "cells": [
  {
   "cell_type": "code",
   "execution_count": null,
   "id": "248613fe-ff77-4996-8bab-40484da6982d",
   "metadata": {},
   "outputs": [],
   "source": [
    "# Import essential libraries\n",
    "import pandas as pd  # For data manipulation\n",
    "import numpy as np  # For numerical operations\n",
    "import matplotlib.pyplot as plt  # For visualization\n",
    "import seaborn as sns  # For advanced visualizations\n",
    "\n",
    "# Scikit-Learn for machine learning\n",
    "from sklearn.model_selection import train_test_split  # Splitting dataset\n",
    "from sklearn.preprocessing import LabelEncoder, StandardScaler  # Encoding & Scaling\n",
    "from sklearn.ensemble import RandomForestClassifier  # Classification model\n",
    "from sklearn.linear_model import LogisticRegression  # Another classification model\n",
    "from sklearn.metrics import accuracy_score, classification_report, confusion_matrix  # Model evaluation\n"
   ]
  },
  {
   "cell_type": "code",
   "execution_count": 3,
   "id": "ce1b16e4-ade9-4896-b5ed-ba955ba35c60",
   "metadata": {},
   "outputs": [
    {
     "name": "stdout",
     "output_type": "stream",
     "text": [
      "Dataset Information:\n",
      "<class 'pandas.core.frame.DataFrame'>\n",
      "RangeIndex: 1000 entries, 0 to 999\n",
      "Data columns (total 26 columns):\n",
      " #   Column                    Non-Null Count  Dtype \n",
      "---  ------                    --------------  ----- \n",
      " 0   index                     1000 non-null   int64 \n",
      " 1   Patient Id                1000 non-null   object\n",
      " 2   Age                       1000 non-null   int64 \n",
      " 3   Gender                    1000 non-null   int64 \n",
      " 4   Air Pollution             1000 non-null   int64 \n",
      " 5   Alcohol use               1000 non-null   int64 \n",
      " 6   Dust Allergy              1000 non-null   int64 \n",
      " 7   OccuPational Hazards      1000 non-null   int64 \n",
      " 8   Genetic Risk              1000 non-null   int64 \n",
      " 9   chronic Lung Disease      1000 non-null   int64 \n",
      " 10  Balanced Diet             1000 non-null   int64 \n",
      " 11  Obesity                   1000 non-null   int64 \n",
      " 12  Smoking                   1000 non-null   int64 \n",
      " 13  Passive Smoker            1000 non-null   int64 \n",
      " 14  Chest Pain                1000 non-null   int64 \n",
      " 15  Coughing of Blood         1000 non-null   int64 \n",
      " 16  Fatigue                   1000 non-null   int64 \n",
      " 17  Weight Loss               1000 non-null   int64 \n",
      " 18  Shortness of Breath       1000 non-null   int64 \n",
      " 19  Wheezing                  1000 non-null   int64 \n",
      " 20  Swallowing Difficulty     1000 non-null   int64 \n",
      " 21  Clubbing of Finger Nails  1000 non-null   int64 \n",
      " 22  Frequent Cold             1000 non-null   int64 \n",
      " 23  Dry Cough                 1000 non-null   int64 \n",
      " 24  Snoring                   1000 non-null   int64 \n",
      " 25  Level                     1000 non-null   object\n",
      "dtypes: int64(24), object(2)\n",
      "memory usage: 203.3+ KB\n",
      "None\n"
     ]
    }
   ],
   "source": [
    "import pandas as pd\n",
    "\n",
    "# Load the dataset\n",
    "df = pd.read_csv(\"cancer patient data sets.csv\")\n",
    "\n",
    "# Display basic information about the dataset\n",
    "print(\"Dataset Information:\")\n",
    "print(df.info())\n"
   ]
  },
  {
   "cell_type": "code",
   "execution_count": 5,
   "id": "c09d8416-d363-4e00-a889-b7b51bf74af0",
   "metadata": {},
   "outputs": [
    {
     "name": "stdout",
     "output_type": "stream",
     "text": [
      "Missing Values:\n",
      "index                       0\n",
      "Patient Id                  0\n",
      "Age                         0\n",
      "Gender                      0\n",
      "Air Pollution               0\n",
      "Alcohol use                 0\n",
      "Dust Allergy                0\n",
      "OccuPational Hazards        0\n",
      "Genetic Risk                0\n",
      "chronic Lung Disease        0\n",
      "Balanced Diet               0\n",
      "Obesity                     0\n",
      "Smoking                     0\n",
      "Passive Smoker              0\n",
      "Chest Pain                  0\n",
      "Coughing of Blood           0\n",
      "Fatigue                     0\n",
      "Weight Loss                 0\n",
      "Shortness of Breath         0\n",
      "Wheezing                    0\n",
      "Swallowing Difficulty       0\n",
      "Clubbing of Finger Nails    0\n",
      "Frequent Cold               0\n",
      "Dry Cough                   0\n",
      "Snoring                     0\n",
      "Level                       0\n",
      "dtype: int64\n"
     ]
    }
   ],
   "source": [
    "print(\"Missing Values:\")\n",
    "print(df.isnull().sum())\n"
   ]
  },
  {
   "cell_type": "code",
   "execution_count": 7,
   "id": "88c5e037-5dc5-49f3-b315-9c1390851516",
   "metadata": {},
   "outputs": [
    {
     "name": "stdout",
     "output_type": "stream",
     "text": [
      "first 5 rows\n",
      "   index Patient Id  Age  Gender  Air Pollution  Alcohol use  Dust Allergy  \\\n",
      "0      0         P1   33       1              2            4             5   \n",
      "1      1        P10   17       1              3            1             5   \n",
      "2      2       P100   35       1              4            5             6   \n",
      "3      3      P1000   37       1              7            7             7   \n",
      "4      4       P101   46       1              6            8             7   \n",
      "\n",
      "   OccuPational Hazards  Genetic Risk  chronic Lung Disease  ...  Fatigue  \\\n",
      "0                     4             3                     2  ...        3   \n",
      "1                     3             4                     2  ...        1   \n",
      "2                     5             5                     4  ...        8   \n",
      "3                     7             6                     7  ...        4   \n",
      "4                     7             7                     6  ...        3   \n",
      "\n",
      "   Weight Loss  Shortness of Breath  Wheezing  Swallowing Difficulty  \\\n",
      "0            4                    2         2                      3   \n",
      "1            3                    7         8                      6   \n",
      "2            7                    9         2                      1   \n",
      "3            2                    3         1                      4   \n",
      "4            2                    4         1                      4   \n",
      "\n",
      "   Clubbing of Finger Nails  Frequent Cold  Dry Cough  Snoring   Level  \n",
      "0                         1              2          3        4     Low  \n",
      "1                         2              1          7        2  Medium  \n",
      "2                         4              6          7        2    High  \n",
      "3                         5              6          7        5    High  \n",
      "4                         2              4          2        3    High  \n",
      "\n",
      "[5 rows x 26 columns]\n"
     ]
    }
   ],
   "source": [
    "print(\"first 5 rows\")\n",
    "\n",
    "print(df.head())"
   ]
  },
  {
   "cell_type": "code",
   "execution_count": 9,
   "id": "3244f876-4622-4ff7-b4ec-a3a4d9b73924",
   "metadata": {},
   "outputs": [
    {
     "data": {
      "image/png": "[encoded data removed]",
      "text/plain": [
       "<Figure size 640x480 with 1 Axes>"
      ]
     },
     "metadata": {},
     "output_type": "display_data"
    }
   ],
   "source": [
    "import matplotlib.pyplot as plt\n",
    "df['Age'].hist(bins=20)\n",
    "plt.title('Age Distribution')\n",
    "plt.xlabel('Age')\n",
    "plt.ylabel('Frequency')\n",
    "plt.show()\n"
   ]
  },
  {
   "cell_type": "code",
   "execution_count": 43,
   "id": "ec65d125-87eb-4728-99de-2bd929caa80b",
   "metadata": {},
   "outputs": [
    {
     "name": "stdout",
     "output_type": "stream",
     "text": [
      "Index(['index', 'Patient Id', 'Age', 'Air Pollution', 'Alcohol use',\n",
      "       'Dust Allergy', 'OccuPational Hazards', 'Genetic Risk',\n",
      "       'chronic Lung Disease', 'Balanced Diet', 'Obesity', 'Chest Pain',\n",
      "       'Coughing of Blood', 'Fatigue', 'Weight Loss', 'Shortness of Breath',\n",
      "       'Wheezing', 'Swallowing Difficulty', 'Clubbing of Finger Nails',\n",
      "       'Frequent Cold', 'Dry Cough', 'Snoring', 'Level', 'Gender_2',\n",
      "       'Smoking_2', 'Smoking_3', 'Smoking_4', 'Smoking_5', 'Smoking_6',\n",
      "       'Smoking_7', 'Smoking_8', 'Passive Smoker_2', 'Passive Smoker_3',\n",
      "       'Passive Smoker_4', 'Passive Smoker_5', 'Passive Smoker_6',\n",
      "       'Passive Smoker_7', 'Passive Smoker_8'],\n",
      "      dtype='object')\n"
     ]
    }
   ],
   "source": [
    "# Print all column names to check the correct one\n",
    "print(df.columns)\n"
   ]
  },
  {
   "cell_type": "code",
   "execution_count": 45,
   "id": "aa2311f9-0373-4806-9cf7-1ff2a6c738a0",
   "metadata": {},
   "outputs": [
    {
     "data": {
      "image/png": "[encoded data removed]",
      "text/plain": [
       "<Figure size 640x480 with 1 Axes>"
      ]
     },
     "metadata": {},
     "output_type": "display_data"
    }
   ],
   "source": [
    "# Plot the distribution of the correct 'Smoking' column\n",
    "df['Smoking_2'].value_counts().plot(kind='bar')\n",
    "plt.title('Smoking Distribution')\n",
    "plt.xlabel('Smoking Status')\n",
    "plt.ylabel('Frequency')\n",
    "plt.show()\n"
   ]
  },
  {
   "cell_type": "code",
   "execution_count": 69,
   "id": "0a0ed119-b895-4b43-a0fc-9f40278d97d2",
   "metadata": {},
   "outputs": [
    {
     "name": "stdout",
     "output_type": "stream",
     "text": [
      "Best Accuracy: 100.00%\n"
     ]
    }
   ],
   "source": [
    "from sklearn.model_selection import train_test_split\n",
    "from sklearn.ensemble import RandomForestClassifier\n",
    "from sklearn.metrics import accuracy_score\n",
    "\n",
    "# Assuming df is your DataFrame and 'Level' is your target column\n",
    "X = df.drop(['Level', 'index', 'Patient Id'], axis=1)  # Drop non-feature columns\n",
    "y = df['Level']  # Target column\n",
    "\n",
    "# Split the data into training and testing sets\n",
    "X_train, X_test, y_train, y_test = train_test_split(X, y, test_size=0.2, random_state=42)\n",
    "\n",
    "# Initialize and train the model\n",
    "model = RandomForestClassifier(random_state=42)\n",
    "model.fit(X_train, y_train)\n",
    "\n",
    "# Make predictions on the test set\n",
    "y_pred = model.predict(X_test)\n",
    "\n",
    "# Calculate the accuracy score on the test set\n",
    "best_accuracy = accuracy_score(y_test, y_pred)\n",
    "\n",
    "# Print the best accuracy as a percentage\n",
    "print(\"Best Accuracy: {:.2f}%\".format(best_accuracy * 100))\n"
   ]
  },
  {
   "cell_type": "code",
   "execution_count": null,
   "id": "2016f329-8bef-4b57-9eae-d2f2de6d40a1",
   "metadata": {},
   "outputs": [],
   "source": [
    "import pandas as pd\n",
    "from sklearn.model_selection import train_test_split\n",
    "from sklearn.svm import SVC\n",
    "from sklearn.metrics import confusion_matrix, classification_report, accuracy_score\n",
    "import seaborn as sns\n",
    "import matplotlib.pyplot as plt\n",
    "\n",
    "# Load your dataset (make sure the path is correct and the file exists)\n",
    "df = pd.read_csv(\"cancer patient data sets.csv\")\n",
    "\n",
    "# Choosing features and the target variable\n",
    "X = df[['Alcohol use', 'Dust Allergy', 'Air Pollution', 'Smoking', 'Obesity', 'OccuPational Hazards', 'Genetic Risk', 'Fatigue', 'chronic Lung Disease']]\n",
    "y = df['Level']\n",
    "\n",
    "# Splitting the dataset into train and test sets (80% training, 20% testing)\n",
    "X_train, X_test, y_train, y_test = train_test_split(X, y, test_size=0.2, random_state=42)\n",
    "\n",
    "# Train an SVM model\n",
    "svm = SVC()\n",
    "svm.fit(X_train, y_train)\n",
    "\n",
    "# Make predictions\n",
    "svm_pred = svm.predict(X_test)\n",
    "\n",
    "# Calculate the confusion matrix\n",
    "cm = confusion_matrix(y_test, svm_pred)\n",
    "\n",
    "# Define a function to plot the confusion matrix\n",
    "def plot_confusion_matrix(cm, col_names, title, cmap):\n",
    "    plt.figure(figsize=(8, 6))\n",
    "    sns.heatmap(cm, annot=True, fmt='d', cmap=cmap, xticklabels=col_names, yticklabels=col_names)\n",
    "    plt.title(title)\n",
    "    plt.xlabel('Predicted')\n",
    "    plt.ylabel('True')\n",
    "    plt.show()\n",
    "\n",
    "# Plot the confusion matrix\n",
    "plot_confusion_matrix(cm, col_names=['Low', 'Medium', 'High'], title='- SVM', cmap='Blues')\n",
    "\n",
    "# Store the accuracy score for the SVM model\n",
    "ml_accuracies = {}\n",
    "ml_accuracies['SVM'] = accuracy_score(y_test, svm_pred)\n",
    "\n",
    "# Print the classification report\n",
    "print(classification_report(y_test, svm_pred))\n"
   ]
  }
 ],
 "metadata": {
  "kernelspec": {
   "display_name": "Python 3 (ipykernel)",
   "language": "python",
   "name": "python3"
  },
  "language_info": {
   "codemirror_mode": {
    "name": "ipython",
    "version": 3
   },
   "file_extension": ".py",
   "mimetype": "text/x-python",
   "name": "python",
   "nbconvert_exporter": "python",
   "pygments_lexer": "ipython3",
   "version": "3.12.4"
  }
 },
 "nbformat": 4,
 "nbformat_minor": 5
}
